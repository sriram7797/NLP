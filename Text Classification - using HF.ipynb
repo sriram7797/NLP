{
 "cells": [
  {
   "cell_type": "code",
   "execution_count": 1,
   "id": "YBXHtys8gcHI",
   "metadata": {
    "colab": {
     "base_uri": "https://localhost:8080/"
    },
    "executionInfo": {
     "elapsed": 3114,
     "status": "ok",
     "timestamp": 1729220904915,
     "user": {
      "displayName": "Sriram Appusamy",
      "userId": "14728332375139881139"
     },
     "user_tz": -330
    },
    "id": "YBXHtys8gcHI",
    "outputId": "0246d878-e0fb-412a-fd81-1f38af7a2c2c"
   },
   "outputs": [
    {
     "name": "stdout",
     "output_type": "stream",
     "text": [
      "Drive already mounted at /content/drive; to attempt to forcibly remount, call drive.mount(\"/content/drive\", force_remount=True).\n"
     ]
    }
   ],
   "source": [
    "from google.colab import drive\n",
    "drive.mount('/content/drive')"
   ]
  },
  {
   "cell_type": "code",
   "execution_count": 2,
   "id": "JNbUTikogte9",
   "metadata": {
    "colab": {
     "base_uri": "https://localhost:8080/"
    },
    "executionInfo": {
     "elapsed": 5297,
     "status": "ok",
     "timestamp": 1729220911445,
     "user": {
      "displayName": "Sriram Appusamy",
      "userId": "14728332375139881139"
     },
     "user_tz": -330
    },
    "id": "JNbUTikogte9",
    "outputId": "3457d3b9-01c5-4ee2-f512-cff145c79b8e"
   },
   "outputs": [
    {
     "name": "stdout",
     "output_type": "stream",
     "text": [
      "Requirement already satisfied: datasets in /usr/local/lib/python3.10/dist-packages (3.0.1)\n",
      "Requirement already satisfied: filelock in /usr/local/lib/python3.10/dist-packages (from datasets) (3.16.1)\n",
      "Requirement already satisfied: numpy>=1.17 in /usr/local/lib/python3.10/dist-packages (from datasets) (1.26.4)\n",
      "Requirement already satisfied: pyarrow>=15.0.0 in /usr/local/lib/python3.10/dist-packages (from datasets) (16.1.0)\n",
      "Requirement already satisfied: dill<0.3.9,>=0.3.0 in /usr/local/lib/python3.10/dist-packages (from datasets) (0.3.8)\n",
      "Requirement already satisfied: pandas in /usr/local/lib/python3.10/dist-packages (from datasets) (2.2.2)\n",
      "Requirement already satisfied: requests>=2.32.2 in /usr/local/lib/python3.10/dist-packages (from datasets) (2.32.3)\n",
      "Requirement already satisfied: tqdm>=4.66.3 in /usr/local/lib/python3.10/dist-packages (from datasets) (4.66.5)\n",
      "Requirement already satisfied: xxhash in /usr/local/lib/python3.10/dist-packages (from datasets) (3.5.0)\n",
      "Requirement already satisfied: multiprocess in /usr/local/lib/python3.10/dist-packages (from datasets) (0.70.16)\n",
      "Requirement already satisfied: fsspec<=2024.6.1,>=2023.1.0 in /usr/local/lib/python3.10/dist-packages (from fsspec[http]<=2024.6.1,>=2023.1.0->datasets) (2024.6.1)\n",
      "Requirement already satisfied: aiohttp in /usr/local/lib/python3.10/dist-packages (from datasets) (3.10.10)\n",
      "Requirement already satisfied: huggingface-hub>=0.22.0 in /usr/local/lib/python3.10/dist-packages (from datasets) (0.24.7)\n",
      "Requirement already satisfied: packaging in /usr/local/lib/python3.10/dist-packages (from datasets) (24.1)\n",
      "Requirement already satisfied: pyyaml>=5.1 in /usr/local/lib/python3.10/dist-packages (from datasets) (6.0.2)\n",
      "Requirement already satisfied: aiohappyeyeballs>=2.3.0 in /usr/local/lib/python3.10/dist-packages (from aiohttp->datasets) (2.4.3)\n",
      "Requirement already satisfied: aiosignal>=1.1.2 in /usr/local/lib/python3.10/dist-packages (from aiohttp->datasets) (1.3.1)\n",
      "Requirement already satisfied: attrs>=17.3.0 in /usr/local/lib/python3.10/dist-packages (from aiohttp->datasets) (24.2.0)\n",
      "Requirement already satisfied: frozenlist>=1.1.1 in /usr/local/lib/python3.10/dist-packages (from aiohttp->datasets) (1.4.1)\n",
      "Requirement already satisfied: multidict<7.0,>=4.5 in /usr/local/lib/python3.10/dist-packages (from aiohttp->datasets) (6.1.0)\n",
      "Requirement already satisfied: yarl<2.0,>=1.12.0 in /usr/local/lib/python3.10/dist-packages (from aiohttp->datasets) (1.14.0)\n",
      "Requirement already satisfied: async-timeout<5.0,>=4.0 in /usr/local/lib/python3.10/dist-packages (from aiohttp->datasets) (4.0.3)\n",
      "Requirement already satisfied: typing-extensions>=3.7.4.3 in /usr/local/lib/python3.10/dist-packages (from huggingface-hub>=0.22.0->datasets) (4.12.2)\n",
      "Requirement already satisfied: charset-normalizer<4,>=2 in /usr/local/lib/python3.10/dist-packages (from requests>=2.32.2->datasets) (3.4.0)\n",
      "Requirement already satisfied: idna<4,>=2.5 in /usr/local/lib/python3.10/dist-packages (from requests>=2.32.2->datasets) (3.10)\n",
      "Requirement already satisfied: urllib3<3,>=1.21.1 in /usr/local/lib/python3.10/dist-packages (from requests>=2.32.2->datasets) (2.2.3)\n",
      "Requirement already satisfied: certifi>=2017.4.17 in /usr/local/lib/python3.10/dist-packages (from requests>=2.32.2->datasets) (2024.8.30)\n",
      "Requirement already satisfied: python-dateutil>=2.8.2 in /usr/local/lib/python3.10/dist-packages (from pandas->datasets) (2.8.2)\n",
      "Requirement already satisfied: pytz>=2020.1 in /usr/local/lib/python3.10/dist-packages (from pandas->datasets) (2024.2)\n",
      "Requirement already satisfied: tzdata>=2022.7 in /usr/local/lib/python3.10/dist-packages (from pandas->datasets) (2024.2)\n",
      "Requirement already satisfied: six>=1.5 in /usr/local/lib/python3.10/dist-packages (from python-dateutil>=2.8.2->pandas->datasets) (1.16.0)\n",
      "Requirement already satisfied: propcache>=0.2.0 in /usr/local/lib/python3.10/dist-packages (from yarl<2.0,>=1.12.0->aiohttp->datasets) (0.2.0)\n"
     ]
    }
   ],
   "source": [
    "!pip install datasets"
   ]
  },
  {
   "cell_type": "code",
   "execution_count": 3,
   "id": "-M4XQDq1hfSd",
   "metadata": {
    "colab": {
     "base_uri": "https://localhost:8080/"
    },
    "executionInfo": {
     "elapsed": 3764,
     "status": "ok",
     "timestamp": 1729220915207,
     "user": {
      "displayName": "Sriram Appusamy",
      "userId": "14728332375139881139"
     },
     "user_tz": -330
    },
    "id": "-M4XQDq1hfSd",
    "outputId": "f280a0e4-622b-425f-f33d-87d7eda4a3fe"
   },
   "outputs": [
    {
     "name": "stdout",
     "output_type": "stream",
     "text": [
      "Requirement already satisfied: transformers in /usr/local/lib/python3.10/dist-packages (4.45.2)\n",
      "Requirement already satisfied: filelock in /usr/local/lib/python3.10/dist-packages (from transformers) (3.16.1)\n",
      "Requirement already satisfied: huggingface-hub<1.0,>=0.23.2 in /usr/local/lib/python3.10/dist-packages (from transformers) (0.24.7)\n",
      "Requirement already satisfied: numpy>=1.17 in /usr/local/lib/python3.10/dist-packages (from transformers) (1.26.4)\n",
      "Requirement already satisfied: packaging>=20.0 in /usr/local/lib/python3.10/dist-packages (from transformers) (24.1)\n",
      "Requirement already satisfied: pyyaml>=5.1 in /usr/local/lib/python3.10/dist-packages (from transformers) (6.0.2)\n",
      "Requirement already satisfied: regex!=2019.12.17 in /usr/local/lib/python3.10/dist-packages (from transformers) (2024.9.11)\n",
      "Requirement already satisfied: requests in /usr/local/lib/python3.10/dist-packages (from transformers) (2.32.3)\n",
      "Requirement already satisfied: safetensors>=0.4.1 in /usr/local/lib/python3.10/dist-packages (from transformers) (0.4.5)\n",
      "Requirement already satisfied: tokenizers<0.21,>=0.20 in /usr/local/lib/python3.10/dist-packages (from transformers) (0.20.1)\n",
      "Requirement already satisfied: tqdm>=4.27 in /usr/local/lib/python3.10/dist-packages (from transformers) (4.66.5)\n",
      "Requirement already satisfied: fsspec>=2023.5.0 in /usr/local/lib/python3.10/dist-packages (from huggingface-hub<1.0,>=0.23.2->transformers) (2024.6.1)\n",
      "Requirement already satisfied: typing-extensions>=3.7.4.3 in /usr/local/lib/python3.10/dist-packages (from huggingface-hub<1.0,>=0.23.2->transformers) (4.12.2)\n",
      "Requirement already satisfied: charset-normalizer<4,>=2 in /usr/local/lib/python3.10/dist-packages (from requests->transformers) (3.4.0)\n",
      "Requirement already satisfied: idna<4,>=2.5 in /usr/local/lib/python3.10/dist-packages (from requests->transformers) (3.10)\n",
      "Requirement already satisfied: urllib3<3,>=1.21.1 in /usr/local/lib/python3.10/dist-packages (from requests->transformers) (2.2.3)\n",
      "Requirement already satisfied: certifi>=2017.4.17 in /usr/local/lib/python3.10/dist-packages (from requests->transformers) (2024.8.30)\n"
     ]
    }
   ],
   "source": [
    "!pip install -U transformers"
   ]
  },
  {
   "cell_type": "code",
   "execution_count": 4,
   "id": "70lCcrSygygX",
   "metadata": {
    "colab": {
     "base_uri": "https://localhost:8080/"
    },
    "executionInfo": {
     "elapsed": 6564,
     "status": "ok",
     "timestamp": 1729220921767,
     "user": {
      "displayName": "Sriram Appusamy",
      "userId": "14728332375139881139"
     },
     "user_tz": -330
    },
    "id": "70lCcrSygygX",
    "outputId": "dd4f1af5-79b3-414b-c341-c1bb3e74a2e8"
   },
   "outputs": [
    {
     "name": "stdout",
     "output_type": "stream",
     "text": [
      "Requirement already satisfied: evaluate in /usr/local/lib/python3.10/dist-packages (0.4.3)\n",
      "Requirement already satisfied: datasets>=2.0.0 in /usr/local/lib/python3.10/dist-packages (from evaluate) (3.0.1)\n",
      "Requirement already satisfied: numpy>=1.17 in /usr/local/lib/python3.10/dist-packages (from evaluate) (1.26.4)\n",
      "Requirement already satisfied: dill in /usr/local/lib/python3.10/dist-packages (from evaluate) (0.3.8)\n",
      "Requirement already satisfied: pandas in /usr/local/lib/python3.10/dist-packages (from evaluate) (2.2.2)\n",
      "Requirement already satisfied: requests>=2.19.0 in /usr/local/lib/python3.10/dist-packages (from evaluate) (2.32.3)\n",
      "Requirement already satisfied: tqdm>=4.62.1 in /usr/local/lib/python3.10/dist-packages (from evaluate) (4.66.5)\n",
      "Requirement already satisfied: xxhash in /usr/local/lib/python3.10/dist-packages (from evaluate) (3.5.0)\n",
      "Requirement already satisfied: multiprocess in /usr/local/lib/python3.10/dist-packages (from evaluate) (0.70.16)\n",
      "Requirement already satisfied: fsspec>=2021.05.0 in /usr/local/lib/python3.10/dist-packages (from fsspec[http]>=2021.05.0->evaluate) (2024.6.1)\n",
      "Requirement already satisfied: huggingface-hub>=0.7.0 in /usr/local/lib/python3.10/dist-packages (from evaluate) (0.24.7)\n",
      "Requirement already satisfied: packaging in /usr/local/lib/python3.10/dist-packages (from evaluate) (24.1)\n",
      "Requirement already satisfied: filelock in /usr/local/lib/python3.10/dist-packages (from datasets>=2.0.0->evaluate) (3.16.1)\n",
      "Requirement already satisfied: pyarrow>=15.0.0 in /usr/local/lib/python3.10/dist-packages (from datasets>=2.0.0->evaluate) (16.1.0)\n",
      "Requirement already satisfied: aiohttp in /usr/local/lib/python3.10/dist-packages (from datasets>=2.0.0->evaluate) (3.10.10)\n",
      "Requirement already satisfied: pyyaml>=5.1 in /usr/local/lib/python3.10/dist-packages (from datasets>=2.0.0->evaluate) (6.0.2)\n",
      "Requirement already satisfied: typing-extensions>=3.7.4.3 in /usr/local/lib/python3.10/dist-packages (from huggingface-hub>=0.7.0->evaluate) (4.12.2)\n",
      "Requirement already satisfied: charset-normalizer<4,>=2 in /usr/local/lib/python3.10/dist-packages (from requests>=2.19.0->evaluate) (3.4.0)\n",
      "Requirement already satisfied: idna<4,>=2.5 in /usr/local/lib/python3.10/dist-packages (from requests>=2.19.0->evaluate) (3.10)\n",
      "Requirement already satisfied: urllib3<3,>=1.21.1 in /usr/local/lib/python3.10/dist-packages (from requests>=2.19.0->evaluate) (2.2.3)\n",
      "Requirement already satisfied: certifi>=2017.4.17 in /usr/local/lib/python3.10/dist-packages (from requests>=2.19.0->evaluate) (2024.8.30)\n",
      "Requirement already satisfied: python-dateutil>=2.8.2 in /usr/local/lib/python3.10/dist-packages (from pandas->evaluate) (2.8.2)\n",
      "Requirement already satisfied: pytz>=2020.1 in /usr/local/lib/python3.10/dist-packages (from pandas->evaluate) (2024.2)\n",
      "Requirement already satisfied: tzdata>=2022.7 in /usr/local/lib/python3.10/dist-packages (from pandas->evaluate) (2024.2)\n",
      "Requirement already satisfied: aiohappyeyeballs>=2.3.0 in /usr/local/lib/python3.10/dist-packages (from aiohttp->datasets>=2.0.0->evaluate) (2.4.3)\n",
      "Requirement already satisfied: aiosignal>=1.1.2 in /usr/local/lib/python3.10/dist-packages (from aiohttp->datasets>=2.0.0->evaluate) (1.3.1)\n",
      "Requirement already satisfied: attrs>=17.3.0 in /usr/local/lib/python3.10/dist-packages (from aiohttp->datasets>=2.0.0->evaluate) (24.2.0)\n",
      "Requirement already satisfied: frozenlist>=1.1.1 in /usr/local/lib/python3.10/dist-packages (from aiohttp->datasets>=2.0.0->evaluate) (1.4.1)\n",
      "Requirement already satisfied: multidict<7.0,>=4.5 in /usr/local/lib/python3.10/dist-packages (from aiohttp->datasets>=2.0.0->evaluate) (6.1.0)\n",
      "Requirement already satisfied: yarl<2.0,>=1.12.0 in /usr/local/lib/python3.10/dist-packages (from aiohttp->datasets>=2.0.0->evaluate) (1.14.0)\n",
      "Requirement already satisfied: async-timeout<5.0,>=4.0 in /usr/local/lib/python3.10/dist-packages (from aiohttp->datasets>=2.0.0->evaluate) (4.0.3)\n",
      "Requirement already satisfied: six>=1.5 in /usr/local/lib/python3.10/dist-packages (from python-dateutil>=2.8.2->pandas->evaluate) (1.16.0)\n",
      "Requirement already satisfied: propcache>=0.2.0 in /usr/local/lib/python3.10/dist-packages (from yarl<2.0,>=1.12.0->aiohttp->datasets>=2.0.0->evaluate) (0.2.0)\n"
     ]
    }
   ],
   "source": [
    "!pip install evaluate"
   ]
  },
  {
   "cell_type": "code",
   "execution_count": 5,
   "id": "66832723-b8b7-4e52-86b2-10314cd34d44",
   "metadata": {
    "executionInfo": {
     "elapsed": 4064,
     "status": "ok",
     "timestamp": 1729220925828,
     "user": {
      "displayName": "Sriram Appusamy",
      "userId": "14728332375139881139"
     },
     "user_tz": -330
    },
    "id": "66832723-b8b7-4e52-86b2-10314cd34d44"
   },
   "outputs": [],
   "source": [
    "import transformers"
   ]
  },
  {
   "cell_type": "code",
   "execution_count": 6,
   "id": "0bee9c7b-0ca9-4d11-b81a-708f0ee7607d",
   "metadata": {
    "colab": {
     "base_uri": "https://localhost:8080/",
     "height": 36
    },
    "executionInfo": {
     "elapsed": 5,
     "status": "ok",
     "timestamp": 1729220925828,
     "user": {
      "displayName": "Sriram Appusamy",
      "userId": "14728332375139881139"
     },
     "user_tz": -330
    },
    "id": "0bee9c7b-0ca9-4d11-b81a-708f0ee7607d",
    "outputId": "d6387688-88e0-4090-d930-70f9603e796b"
   },
   "outputs": [
    {
     "data": {
      "application/vnd.google.colaboratory.intrinsic+json": {
       "type": "string"
      },
      "text/plain": [
       "'4.45.2'"
      ]
     },
     "execution_count": 6,
     "metadata": {},
     "output_type": "execute_result"
    }
   ],
   "source": [
    "transformers.__version__"
   ]
  },
  {
   "cell_type": "code",
   "execution_count": 7,
   "id": "dcf913f4-ce77-4007-8598-4a30c5b07de5",
   "metadata": {
    "executionInfo": {
     "elapsed": 1355,
     "status": "ok",
     "timestamp": 1729220927179,
     "user": {
      "displayName": "Sriram Appusamy",
      "userId": "14728332375139881139"
     },
     "user_tz": -330
    },
    "id": "dcf913f4-ce77-4007-8598-4a30c5b07de5"
   },
   "outputs": [],
   "source": [
    "from datasets import load_dataset, Dataset, Features, ClassLabel, Value\n",
    "from functools import partial\n",
    "import os"
   ]
  },
  {
   "cell_type": "code",
   "execution_count": 8,
   "id": "bf7bb2fc-7e5b-430a-bad5-bc9e76f8ed71",
   "metadata": {
    "executionInfo": {
     "elapsed": 6,
     "status": "ok",
     "timestamp": 1729220927180,
     "user": {
      "displayName": "Sriram Appusamy",
      "userId": "14728332375139881139"
     },
     "user_tz": -330
    },
    "id": "bf7bb2fc-7e5b-430a-bad5-bc9e76f8ed71"
   },
   "outputs": [],
   "source": [
    "def get_labels(data_dir):\n",
    "    return os.listdir(data_dir)"
   ]
  },
  {
   "cell_type": "code",
   "execution_count": 9,
   "id": "07edb469-f507-40a0-80c4-b6d2db69498d",
   "metadata": {
    "executionInfo": {
     "elapsed": 5,
     "status": "ok",
     "timestamp": 1729220927180,
     "user": {
      "displayName": "Sriram Appusamy",
      "userId": "14728332375139881139"
     },
     "user_tz": -330
    },
    "id": "07edb469-f507-40a0-80c4-b6d2db69498d"
   },
   "outputs": [],
   "source": [
    "def get_file_from_folder_with_label(data_dir):\n",
    "\n",
    "    for root, sub_folder, files in os.walk(data_dir):\n",
    "        for file in files:\n",
    "            filename = os.path.join(root, file)\n",
    "            label = os.path.basename(root)\n",
    "            with open(filename, \"r\", encoding=\"latin-1\") as f:\n",
    "                yield {\"text\" : f.read(), \"labels\": label, \"filename\": file}"
   ]
  },
  {
   "cell_type": "code",
   "execution_count": 10,
   "id": "c1535918-7cf0-45c8-bf55-ab41fee25226",
   "metadata": {
    "executionInfo": {
     "elapsed": 5,
     "status": "ok",
     "timestamp": 1729220927180,
     "user": {
      "displayName": "Sriram Appusamy",
      "userId": "14728332375139881139"
     },
     "user_tz": -330
    },
    "id": "c1535918-7cf0-45c8-bf55-ab41fee25226"
   },
   "outputs": [],
   "source": [
    "data_dir = \"/content/drive/MyDrive/Colab Notebooks/dataset/bbc\""
   ]
  },
  {
   "cell_type": "markdown",
   "id": "a19fb370-1333-438c-aba1-e6820d4f04a6",
   "metadata": {
    "id": "a19fb370-1333-438c-aba1-e6820d4f04a6"
   },
   "source": [
    "**Folder structure of data_dir:**\n",
    "\n",
    "     -- class_1\n",
    "        -- file1.txt\n",
    "        -- file2.txt\n",
    "     -- class_2\n",
    "        -- file1.txt\n",
    "        -- file2.txt"
   ]
  },
  {
   "cell_type": "markdown",
   "id": "3cdac43e-b575-47dc-92ff-6bf0223d0583",
   "metadata": {
    "id": "3cdac43e-b575-47dc-92ff-6bf0223d0583"
   },
   "source": [
    "### Dataset creation:"
   ]
  },
  {
   "cell_type": "code",
   "execution_count": 11,
   "id": "ca8ed691-d4a0-4188-8863-abec275f55c5",
   "metadata": {
    "executionInfo": {
     "elapsed": 5,
     "status": "ok",
     "timestamp": 1729220927180,
     "user": {
      "displayName": "Sriram Appusamy",
      "userId": "14728332375139881139"
     },
     "user_tz": -330
    },
    "id": "ca8ed691-d4a0-4188-8863-abec275f55c5"
   },
   "outputs": [],
   "source": [
    "file_iterator = partial(get_file_from_folder_with_label,data_dir)"
   ]
  },
  {
   "cell_type": "code",
   "execution_count": 12,
   "id": "5fc4f72b-f727-4036-8c56-e343493a65bb",
   "metadata": {
    "executionInfo": {
     "elapsed": 5,
     "status": "ok",
     "timestamp": 1729220927180,
     "user": {
      "displayName": "Sriram Appusamy",
      "userId": "14728332375139881139"
     },
     "user_tz": -330
    },
    "id": "5fc4f72b-f727-4036-8c56-e343493a65bb"
   },
   "outputs": [],
   "source": [
    "cache_dir = \"hub_cache\""
   ]
  },
  {
   "cell_type": "code",
   "execution_count": 13,
   "id": "febaa84c-1077-4bd9-89ec-b7d959ad23e2",
   "metadata": {
    "colab": {
     "base_uri": "https://localhost:8080/"
    },
    "executionInfo": {
     "elapsed": 5,
     "status": "ok",
     "timestamp": 1729220927180,
     "user": {
      "displayName": "Sriram Appusamy",
      "userId": "14728332375139881139"
     },
     "user_tz": -330
    },
    "id": "febaa84c-1077-4bd9-89ec-b7d959ad23e2",
    "outputId": "60b9fa4b-8ff9-44a8-e700-331d7d6f9898"
   },
   "outputs": [
    {
     "name": "stdout",
     "output_type": "stream",
     "text": [
      "['entertainment', 'business', 'politics', 'tech', 'sport']\n"
     ]
    }
   ],
   "source": [
    "class_names = get_labels(data_dir)\n",
    "print(class_names)\n",
    "class_label = ClassLabel(names=class_names)"
   ]
  },
  {
   "cell_type": "code",
   "execution_count": 14,
   "id": "b9416610-115e-4f12-9a02-d81c381365c1",
   "metadata": {
    "executionInfo": {
     "elapsed": 4,
     "status": "ok",
     "timestamp": 1729220927180,
     "user": {
      "displayName": "Sriram Appusamy",
      "userId": "14728332375139881139"
     },
     "user_tz": -330
    },
    "id": "b9416610-115e-4f12-9a02-d81c381365c1"
   },
   "outputs": [],
   "source": [
    "bbc_features = Features({'text': Value('string'), 'labels': class_label, 'filename': Value('string')})"
   ]
  },
  {
   "cell_type": "code",
   "execution_count": 15,
   "id": "9e8f248a-b55a-4e41-bc70-215ad1568a35",
   "metadata": {
    "executionInfo": {
     "elapsed": 4,
     "status": "ok",
     "timestamp": 1729220927180,
     "user": {
      "displayName": "Sriram Appusamy",
      "userId": "14728332375139881139"
     },
     "user_tz": -330
    },
    "id": "9e8f248a-b55a-4e41-bc70-215ad1568a35"
   },
   "outputs": [],
   "source": [
    "ds = Dataset.from_generator(file_iterator, features=bbc_features,\n",
    "                            cache_dir=cache_dir)"
   ]
  },
  {
   "cell_type": "code",
   "execution_count": 16,
   "id": "1ac5e887-f02d-47ed-8560-ef04f4832442",
   "metadata": {
    "colab": {
     "base_uri": "https://localhost:8080/"
    },
    "executionInfo": {
     "elapsed": 401,
     "status": "ok",
     "timestamp": 1729220927578,
     "user": {
      "displayName": "Sriram Appusamy",
      "userId": "14728332375139881139"
     },
     "user_tz": -330
    },
    "id": "1ac5e887-f02d-47ed-8560-ef04f4832442",
    "outputId": "2e905607-0b8d-4a0c-92e5-e368c5d056b1"
   },
   "outputs": [
    {
     "data": {
      "text/plain": [
       "Dataset({\n",
       "    features: ['text', 'labels', 'filename'],\n",
       "    num_rows: 2225\n",
       "})"
      ]
     },
     "execution_count": 16,
     "metadata": {},
     "output_type": "execute_result"
    }
   ],
   "source": [
    "ds"
   ]
  },
  {
   "cell_type": "code",
   "execution_count": 17,
   "id": "e5bae3d8-17f2-490e-ace2-e43bbcbeadda",
   "metadata": {
    "colab": {
     "base_uri": "https://localhost:8080/"
    },
    "executionInfo": {
     "elapsed": 3,
     "status": "ok",
     "timestamp": 1729220936853,
     "user": {
      "displayName": "Sriram Appusamy",
      "userId": "14728332375139881139"
     },
     "user_tz": -330
    },
    "id": "e5bae3d8-17f2-490e-ace2-e43bbcbeadda",
    "outputId": "c5067912-f1b0-4aa4-83b3-8d398b8ada17"
   },
   "outputs": [
    {
     "data": {
      "text/plain": [
       "{'text': Value(dtype='string', id=None),\n",
       " 'labels': ClassLabel(names=['entertainment', 'business', 'politics', 'tech', 'sport'], id=None),\n",
       " 'filename': Value(dtype='string', id=None)}"
      ]
     },
     "execution_count": 17,
     "metadata": {},
     "output_type": "execute_result"
    }
   ],
   "source": [
    "ds.features"
   ]
  },
  {
   "cell_type": "code",
   "execution_count": 18,
   "id": "be14f260-b4c3-4ce2-909d-3ff7e0c661ca",
   "metadata": {
    "executionInfo": {
     "elapsed": 421,
     "status": "ok",
     "timestamp": 1729220939638,
     "user": {
      "displayName": "Sriram Appusamy",
      "userId": "14728332375139881139"
     },
     "user_tz": -330
    },
    "id": "be14f260-b4c3-4ce2-909d-3ff7e0c661ca"
   },
   "outputs": [],
   "source": [
    "ds = ds.train_test_split(test_size=0.2)"
   ]
  },
  {
   "cell_type": "code",
   "execution_count": 19,
   "id": "40f2ae0d-d5d0-4c5b-b3e3-9558b7071bfd",
   "metadata": {
    "colab": {
     "base_uri": "https://localhost:8080/"
    },
    "executionInfo": {
     "elapsed": 3,
     "status": "ok",
     "timestamp": 1729220940026,
     "user": {
      "displayName": "Sriram Appusamy",
      "userId": "14728332375139881139"
     },
     "user_tz": -330
    },
    "id": "40f2ae0d-d5d0-4c5b-b3e3-9558b7071bfd",
    "outputId": "3edf1e04-bf97-4692-daf6-d1a450b7ccee"
   },
   "outputs": [
    {
     "data": {
      "text/plain": [
       "DatasetDict({\n",
       "    train: Dataset({\n",
       "        features: ['text', 'labels', 'filename'],\n",
       "        num_rows: 1780\n",
       "    })\n",
       "    test: Dataset({\n",
       "        features: ['text', 'labels', 'filename'],\n",
       "        num_rows: 445\n",
       "    })\n",
       "})"
      ]
     },
     "execution_count": 19,
     "metadata": {},
     "output_type": "execute_result"
    }
   ],
   "source": [
    "ds"
   ]
  },
  {
   "cell_type": "markdown",
   "id": "WNRxKTRgi1xc",
   "metadata": {
    "id": "WNRxKTRgi1xc"
   },
   "source": [
    "### Tokenizer"
   ]
  },
  {
   "cell_type": "code",
   "execution_count": 20,
   "id": "7f65e779-34f0-4d71-895d-8422441617eb",
   "metadata": {
    "executionInfo": {
     "elapsed": 12032,
     "status": "ok",
     "timestamp": 1729220953776,
     "user": {
      "displayName": "Sriram Appusamy",
      "userId": "14728332375139881139"
     },
     "user_tz": -330
    },
    "id": "7f65e779-34f0-4d71-895d-8422441617eb"
   },
   "outputs": [],
   "source": [
    "from transformers import DataCollatorWithPadding\n",
    "from transformers import AutoTokenizer, AutoModelForSequenceClassification, TrainingArguments, Trainer\n",
    "import evaluate"
   ]
  },
  {
   "cell_type": "code",
   "execution_count": 21,
   "id": "20ef49fb-22af-4da4-9887-63879f7364dc",
   "metadata": {
    "executionInfo": {
     "elapsed": 3,
     "status": "ok",
     "timestamp": 1729220953776,
     "user": {
      "displayName": "Sriram Appusamy",
      "userId": "14728332375139881139"
     },
     "user_tz": -330
    },
    "id": "20ef49fb-22af-4da4-9887-63879f7364dc"
   },
   "outputs": [],
   "source": [
    "model_name = \"distilbert/distilbert-base-uncased\""
   ]
  },
  {
   "cell_type": "code",
   "execution_count": 22,
   "id": "3f8c6bf5-5bdd-4d53-94a3-2506c6de4e2f",
   "metadata": {
    "colab": {
     "base_uri": "https://localhost:8080/"
    },
    "executionInfo": {
     "elapsed": 1952,
     "status": "ok",
     "timestamp": 1729220955725,
     "user": {
      "displayName": "Sriram Appusamy",
      "userId": "14728332375139881139"
     },
     "user_tz": -330
    },
    "id": "3f8c6bf5-5bdd-4d53-94a3-2506c6de4e2f",
    "outputId": "5d433c56-e116-4592-f0d2-9f73717d2e1a"
   },
   "outputs": [
    {
     "name": "stderr",
     "output_type": "stream",
     "text": [
      "/usr/local/lib/python3.10/dist-packages/huggingface_hub/utils/_token.py:89: UserWarning: \n",
      "The secret `HF_TOKEN` does not exist in your Colab secrets.\n",
      "To authenticate with the Hugging Face Hub, create a token in your settings tab (https://huggingface.co/settings/tokens), set it as secret in your Google Colab and restart your session.\n",
      "You will be able to reuse this secret in all of your notebooks.\n",
      "Please note that authentication is recommended but still optional to access public models or datasets.\n",
      "  warnings.warn(\n"
     ]
    }
   ],
   "source": [
    "tokenizer = AutoTokenizer.from_pretrained(model_name, cache_dir = cache_dir)"
   ]
  },
  {
   "cell_type": "code",
   "execution_count": 23,
   "id": "f3512e4f-5248-4749-9b4f-476780092043",
   "metadata": {
    "colab": {
     "base_uri": "https://localhost:8080/"
    },
    "executionInfo": {
     "elapsed": 6,
     "status": "ok",
     "timestamp": 1729220955725,
     "user": {
      "displayName": "Sriram Appusamy",
      "userId": "14728332375139881139"
     },
     "user_tz": -330
    },
    "id": "f3512e4f-5248-4749-9b4f-476780092043",
    "outputId": "1599fd1e-0c3b-4d22-fc95-5156a88b0b6b"
   },
   "outputs": [
    {
     "data": {
      "text/plain": [
       "{'text': \"Nadal puts Spain 2-0 up\\n\\nResult: Nadal 6-7 (6/8) 6-2 7-6 (8/6) 6-2 Roddick\\n\\nSpain's Rafael Nadal beats Andy Roddick of the USA in the second singles match rubber of the 2004 Davis Cup final in Seville. Spain lead 1-0 after Carlos Moya beat Mardy Fish in straight sets in the opening match of the tie.\\n\\nNadal holds his nerve and the crowd goes wild as Spain go 2-0 up in the tie.\\n\\nRoddick holds serve to force Nadal to serve for the match but the American surely cannot turn things around now.\\n\\nNadal works Roddick around the court on two consecutive points to earn two break points. One is enough, the Spaniard secures the double-break and Roddick is now teetering on the edge.\\n\\nRoddick is trying to gee himself up but the clay surface is taking its toll on his game and he is looking tired. Nadal wins the game to love.\\n\\nNadal steps up the pressure to break and Spain have the early initiative in the fourth set.\\n\\nNadal also holds convincingly as both players feel their way into the fourth set.\\n\\nRoddick shrugs off the disappointment of losing the third-set tiebreak and breezes through his first service game of the fourth set.\\n\\nNadal earns the first mini-break in the tiebreak as the match enters its fourth hour. A couple of stunning points follow, one where Nadal chases down a Roddick shot and turns into a passing winner. Then Roddick produces some amazing defence at the net to take the score to 4-4. Roddick has two serves for the set but double-faults to take the score to 5-5. Nadal saves a Roddick set point then earns his own with a drive volley - and a crosscourt passing winner sends the crowd wild.\\n\\nNadal tries to up his aggression and he passes Roddick down the line to go 15-40 and two set points up. Roddick saves the first with a desperate lunge volley and smacks a volley winner across the court to take the score back to deuce before securing the game. The set will go to another tiebreak.\\n\\nNadal enjoys another straightforward hold and Roddick must once again serve to stay in the set.\\n\\nRoddick again holds on, despite some brilliant shot-making from his opponent.\\n\\nNadal races through his service game to put the pressure straight back onto Roddick.\\n\\nRoddick hangs in on his serve to level matters but Nadal is making him fight for every point.\\n\\nNadal could be suffering a disappointment hangover from the previous game as he goes 0-30 down and then has to save a break point after a tremendous rally in which he is forced into some brilliant defence. But it pays off and the Spaniard edges ahead in the set.\\n\\nRoddick's serve is not firing as ferociously as usual and has to rely on his sheer competitive determination to stay in the set. Three times, Nadal forces a break point and three times the world number two hangs in. And Roddick's grit pays off as he manages to hold.\\n\\nRoddick still looks a bit sluggish but he attacks the net and is rewarded with a break point, which Nadal saves with a good first serve and the Spaniard goes on to hold.\\n\\nThere is a disruption in play as Roddick is upset about something in the crowd. The Spanish captain gets involved as does the match referee but it is unclear what the problem is. One thing for certain is that the crowd are roused into support of Nadal and they go wild when Roddick loses the next point and goes break point down. Roddick saves the break point and then bangs down his ninth ace before clinching the game with a service winner.\\n\\nThe game passes the two-hour mark as Nadal holds serve to edge ahead in the third set.\\n\\nNow Roddick has to defend a break point and he produces a characteristic ace to save it. It is immediately followed by another and he holds with a little dinked half-volley winner.\\n\\nRoddick is looking a little leaden-footed but does carve out a break point for himself. But he plays it poorly and Nadal avoids the danger.\\n\\nRoddick has gone off the boil and again struggles. He fails to get down properly for a low forehand volley and gives Nadal three break points. The American blasts an ace to save one but follows up with a double fault and the rubber is level.\\n\\nNadal edges towards taking the second set with a comfortable hold.\\n\\nTwo good serves put Roddick 30-0 up but he then makes a couple of errors to find himself 30-40 down. He saves the break point with an ace and then manages to hold.\\n\\nRoddick's level has dropped while Nadal is on a hot streak. The Spaniard includes a superb crosscourt winner off the back foot as he races through his service game without dropping a point.\\n\\nRoddick double-faults twice and Nadal takes full advantage of the break point offered, powering a passing winner past Roddick.\\n\\nNadal wins another tight game. Neither player has dipped from the high standard of play in the first set.\\n\\nNadal puts the American under pressure and Roddick saves a break point with a superb stop volley before going on to hold.\\n\\nNadal puts the disappointment of losing the first-set tiebreak to claim the opening game in the second.\\n\\nRoddick double-faults to concede the first mini-break and then Nadal loops a crosscourt winner to seize advantage in the tiebreak. He lets one slip but wins his next serve to earn three set points. But Roddick saves them and then earns one himself. Nadal comes up with a down-the-line winner but then nets tamely on Roddick's next set point.\\n\\nNadal's nerve is tested as he tries to force a tiebreak. Both players come up with some scintillating tennis and the Spaniard has several chances to clinch the game before finally doing so when Roddick drives wide.\\n\\nA pulsating game sees Nadal racing round the court retrieving and refusing to give Roddick any easy points. The point of the match so far involves Roddick's slam-dunk smash being returned by Nadal before Roddick finally manages to end the rally. On the very next point, Nadal blasts a forehand service return from right of court that passes Roddick and even the American is forced to applaud. But Roddick comes up with two big serves to polish off the game.\\n\\nNadal outplays Roddick to reach 40-0 but the American fights back to 40-30 before Nadal's powerful crosscourt forehand winner secures the game.\\n\\nThe crowd are getting very involved, cheering between Roddick's first and second serves. But the American comes through to hold and edge ahead in the set.\\n\\nNadal manages to hold again despite Roddick piling the pressure on his serve. The Spaniard wins the game courtesy of another lucky net cord.\\n\\nRoddick double faults buts manages to keep his composure. A well-placed serve is unreturnable and Roddick holds.\\n\\nA powerful ace down the middle gives Nadal a simple love service game - the first time he has held serve so far in the match. If Roddick didn't know before, he knows now that he is in a real contest.\\n\\nAnother superb game as Nadal breaks to once again lift the roof. He produces some fine groundstrokes to leave Roddick chasing shadows. Four of the first five games have seen a break of serve.\\n\\nDespite the disappointment of losing his serve, Roddick is not phased and storms into a 40-15 lead when the umpire leaves his seat to confirm a close line-call. Nadal takes the next point but Roddick breaks again with a sharp volley at the net.\\n\\nRoddick's advantage is short lived as Nadal breaks back immediately. A fortunate net cord helps the Spaniard on his way and when Roddick fires a forehand cross court shot wide to lose his serve, Nadal pumps his fist in celebration.\\n\\nThe American is pumped up for this clash and takes on Nadal's serve from the start. Nadal's drop shot is agonisingly called out and Roddick claims the vital first break.\\n\\nAfter Moya's win in the opening rubber, a raucous Seville crowd is buoyed by Nadal's impressive start which sees him race into a 30-0 lead. However Roddick fights back to hold his serve.\\n\",\n",
       " 'labels': 4,\n",
       " 'filename': 'sport_491.txt'}"
      ]
     },
     "execution_count": 23,
     "metadata": {},
     "output_type": "execute_result"
    }
   ],
   "source": [
    "ds[\"train\"][0]"
   ]
  },
  {
   "cell_type": "code",
   "execution_count": 24,
   "id": "52c4eadb-449b-4e03-bb77-b698b80d0be9",
   "metadata": {
    "executionInfo": {
     "elapsed": 5,
     "status": "ok",
     "timestamp": 1729220955725,
     "user": {
      "displayName": "Sriram Appusamy",
      "userId": "14728332375139881139"
     },
     "user_tz": -330
    },
    "id": "52c4eadb-449b-4e03-bb77-b698b80d0be9"
   },
   "outputs": [],
   "source": [
    "def preprocess_text(example):\n",
    "    return tokenizer(example[\"text\"], truncation=True)"
   ]
  },
  {
   "cell_type": "code",
   "execution_count": 25,
   "id": "54465a9a-5f6f-4e78-b563-2f0fc1245c4e",
   "metadata": {
    "colab": {
     "base_uri": "https://localhost:8080/",
     "height": 81,
     "referenced_widgets": [
      "0eb3c31baba84c648f4bb1adf0ef5c01",
      "943eda11b4bd49619646858c4e11c888",
      "2baec7929e53474ab2b2e2f1f316348d",
      "8b9e0683b7ea4959aaa5ae42a37ed75b",
      "b1789fe1267c4683832a3c3f163d4064",
      "3d771e2aba244dd7a804dcbb82e003a7",
      "1f128e591d8f46e09cf586105b10b63c",
      "9de2e8044f974ef39ef4c3b547ea0b27",
      "acf715717dad4bc19292faf05eea3400",
      "e7e931e9240142be862ed4ddc481aa21",
      "cf88d200ae5a4d27993792d6f25d6616",
      "313e0a2e8abd4de5966791ba3640304d",
      "17f5779fa43446cbbdf16f9ff6b9cb62",
      "2d8579a11ab64fea820509d02f981711",
      "a9bb2d8e83374a819a006ce29621d192",
      "2255e9dc8c2d4182938967e99d7564b2",
      "5595f2c8ef7240168a77029dc6b9545d",
      "38943e33356a44e5abc90005650cc83d",
      "6db2a9ce91f3426fa47d6bfe393b424f",
      "d46f97effaa447b4af11b107eac9ae06",
      "f9110857b77e4fa185c210a3f60c66da",
      "c6e9a71be5024c599656c6c36bd5106e"
     ]
    },
    "executionInfo": {
     "elapsed": 4015,
     "status": "ok",
     "timestamp": 1729220959735,
     "user": {
      "displayName": "Sriram Appusamy",
      "userId": "14728332375139881139"
     },
     "user_tz": -330
    },
    "id": "54465a9a-5f6f-4e78-b563-2f0fc1245c4e",
    "outputId": "83b1ac87-a346-4cba-cdd8-65148b55e1ae"
   },
   "outputs": [
    {
     "data": {
      "application/vnd.jupyter.widget-view+json": {
       "model_id": "0eb3c31baba84c648f4bb1adf0ef5c01",
       "version_major": 2,
       "version_minor": 0
      },
      "text/plain": [
       "Map:   0%|          | 0/1780 [00:00<?, ? examples/s]"
      ]
     },
     "metadata": {},
     "output_type": "display_data"
    },
    {
     "data": {
      "application/vnd.jupyter.widget-view+json": {
       "model_id": "313e0a2e8abd4de5966791ba3640304d",
       "version_major": 2,
       "version_minor": 0
      },
      "text/plain": [
       "Map:   0%|          | 0/445 [00:00<?, ? examples/s]"
      ]
     },
     "metadata": {},
     "output_type": "display_data"
    }
   ],
   "source": [
    "tokenized_ds = ds.map(preprocess_text, batched=True)"
   ]
  },
  {
   "cell_type": "code",
   "execution_count": 26,
   "id": "c82f31db-c5ea-40d1-a276-f7521fa0fbf6",
   "metadata": {
    "colab": {
     "base_uri": "https://localhost:8080/"
    },
    "executionInfo": {
     "elapsed": 8,
     "status": "ok",
     "timestamp": 1729220959735,
     "user": {
      "displayName": "Sriram Appusamy",
      "userId": "14728332375139881139"
     },
     "user_tz": -330
    },
    "id": "c82f31db-c5ea-40d1-a276-f7521fa0fbf6",
    "outputId": "68c636d2-79f7-408d-de80-c8e0d11cdee6"
   },
   "outputs": [
    {
     "data": {
      "text/plain": [
       "DatasetDict({\n",
       "    train: Dataset({\n",
       "        features: ['text', 'labels', 'filename', 'input_ids', 'attention_mask'],\n",
       "        num_rows: 1780\n",
       "    })\n",
       "    test: Dataset({\n",
       "        features: ['text', 'labels', 'filename', 'input_ids', 'attention_mask'],\n",
       "        num_rows: 445\n",
       "    })\n",
       "})"
      ]
     },
     "execution_count": 26,
     "metadata": {},
     "output_type": "execute_result"
    }
   ],
   "source": [
    "tokenized_ds"
   ]
  },
  {
   "cell_type": "code",
   "execution_count": 27,
   "id": "1ca10447-9feb-4127-a6a0-d3de55d253e0",
   "metadata": {
    "executionInfo": {
     "elapsed": 7,
     "status": "ok",
     "timestamp": 1729220959735,
     "user": {
      "displayName": "Sriram Appusamy",
      "userId": "14728332375139881139"
     },
     "user_tz": -330
    },
    "id": "1ca10447-9feb-4127-a6a0-d3de55d253e0"
   },
   "outputs": [],
   "source": [
    "data_collator = DataCollatorWithPadding(tokenizer=tokenizer, return_tensors=\"pt\")"
   ]
  },
  {
   "cell_type": "code",
   "execution_count": 28,
   "id": "9ec570aa-bafa-4b04-b090-509f4dbfbe3f",
   "metadata": {
    "colab": {
     "base_uri": "https://localhost:8080/"
    },
    "executionInfo": {
     "elapsed": 6,
     "status": "ok",
     "timestamp": 1729220959735,
     "user": {
      "displayName": "Sriram Appusamy",
      "userId": "14728332375139881139"
     },
     "user_tz": -330
    },
    "id": "9ec570aa-bafa-4b04-b090-509f4dbfbe3f",
    "outputId": "d14190b9-ecc7-4e62-cdd0-63a17b0bb21f"
   },
   "outputs": [
    {
     "name": "stdout",
     "output_type": "stream",
     "text": [
      "{0: 'entertainment', 1: 'business', 2: 'politics', 3: 'tech', 4: 'sport'}\n",
      "{'entertainment': 0, 'business': 1, 'politics': 2, 'tech': 3, 'sport': 4}\n"
     ]
    }
   ],
   "source": [
    "id2label = {}\n",
    "label2id = {}\n",
    "for label in class_label.names:\n",
    "    id2label[class_label.str2int(label)] = label\n",
    "    label2id[label] = class_label.str2int(label)\n",
    "print(id2label)\n",
    "print(label2id)"
   ]
  },
  {
   "cell_type": "code",
   "execution_count": 29,
   "id": "f7affc3d-5a4a-4ebe-ace3-b9918a8c7717",
   "metadata": {
    "colab": {
     "base_uri": "https://localhost:8080/"
    },
    "executionInfo": {
     "elapsed": 4,
     "status": "ok",
     "timestamp": 1729220959735,
     "user": {
      "displayName": "Sriram Appusamy",
      "userId": "14728332375139881139"
     },
     "user_tz": -330
    },
    "id": "f7affc3d-5a4a-4ebe-ace3-b9918a8c7717",
    "outputId": "e987ad0d-0602-4d33-99f8-0328cbcf81bc"
   },
   "outputs": [
    {
     "data": {
      "text/plain": [
       "5"
      ]
     },
     "execution_count": 29,
     "metadata": {},
     "output_type": "execute_result"
    }
   ],
   "source": [
    "num_labels = class_label.num_classes\n",
    "num_labels"
   ]
  },
  {
   "cell_type": "markdown",
   "id": "G4W_vq1fi7cH",
   "metadata": {
    "id": "G4W_vq1fi7cH"
   },
   "source": [
    "### Model"
   ]
  },
  {
   "cell_type": "code",
   "execution_count": 30,
   "id": "c99f69eb-1af2-4831-8e27-b954366326d3",
   "metadata": {
    "colab": {
     "base_uri": "https://localhost:8080/"
    },
    "executionInfo": {
     "elapsed": 605,
     "status": "ok",
     "timestamp": 1729220960336,
     "user": {
      "displayName": "Sriram Appusamy",
      "userId": "14728332375139881139"
     },
     "user_tz": -330
    },
    "id": "c99f69eb-1af2-4831-8e27-b954366326d3",
    "outputId": "cc7f3d50-a766-4e3d-a363-d1b2dda3baa5"
   },
   "outputs": [
    {
     "name": "stderr",
     "output_type": "stream",
     "text": [
      "Some weights of DistilBertForSequenceClassification were not initialized from the model checkpoint at distilbert/distilbert-base-uncased and are newly initialized: ['classifier.bias', 'classifier.weight', 'pre_classifier.bias', 'pre_classifier.weight']\n",
      "You should probably TRAIN this model on a down-stream task to be able to use it for predictions and inference.\n"
     ]
    }
   ],
   "source": [
    "model = AutoModelForSequenceClassification.from_pretrained(model_name, cache_dir = cache_dir, num_labels=num_labels, id2label=id2label, label2id=label2id)"
   ]
  },
  {
   "cell_type": "code",
   "execution_count": 31,
   "id": "23a2f4de-d26c-443f-8468-b03d78b410af",
   "metadata": {
    "colab": {
     "base_uri": "https://localhost:8080/"
    },
    "executionInfo": {
     "elapsed": 4,
     "status": "ok",
     "timestamp": 1729220960337,
     "user": {
      "displayName": "Sriram Appusamy",
      "userId": "14728332375139881139"
     },
     "user_tz": -330
    },
    "id": "23a2f4de-d26c-443f-8468-b03d78b410af",
    "outputId": "d772aa82-987c-48b2-8ae2-6690417fee4b"
   },
   "outputs": [
    {
     "data": {
      "text/plain": [
       "DistilBertForSequenceClassification(\n",
       "  (distilbert): DistilBertModel(\n",
       "    (embeddings): Embeddings(\n",
       "      (word_embeddings): Embedding(30522, 768, padding_idx=0)\n",
       "      (position_embeddings): Embedding(512, 768)\n",
       "      (LayerNorm): LayerNorm((768,), eps=1e-12, elementwise_affine=True)\n",
       "      (dropout): Dropout(p=0.1, inplace=False)\n",
       "    )\n",
       "    (transformer): Transformer(\n",
       "      (layer): ModuleList(\n",
       "        (0-5): 6 x TransformerBlock(\n",
       "          (attention): MultiHeadSelfAttention(\n",
       "            (dropout): Dropout(p=0.1, inplace=False)\n",
       "            (q_lin): Linear(in_features=768, out_features=768, bias=True)\n",
       "            (k_lin): Linear(in_features=768, out_features=768, bias=True)\n",
       "            (v_lin): Linear(in_features=768, out_features=768, bias=True)\n",
       "            (out_lin): Linear(in_features=768, out_features=768, bias=True)\n",
       "          )\n",
       "          (sa_layer_norm): LayerNorm((768,), eps=1e-12, elementwise_affine=True)\n",
       "          (ffn): FFN(\n",
       "            (dropout): Dropout(p=0.1, inplace=False)\n",
       "            (lin1): Linear(in_features=768, out_features=3072, bias=True)\n",
       "            (lin2): Linear(in_features=3072, out_features=768, bias=True)\n",
       "            (activation): GELUActivation()\n",
       "          )\n",
       "          (output_layer_norm): LayerNorm((768,), eps=1e-12, elementwise_affine=True)\n",
       "        )\n",
       "      )\n",
       "    )\n",
       "  )\n",
       "  (pre_classifier): Linear(in_features=768, out_features=768, bias=True)\n",
       "  (classifier): Linear(in_features=768, out_features=5, bias=True)\n",
       "  (dropout): Dropout(p=0.2, inplace=False)\n",
       ")"
      ]
     },
     "execution_count": 31,
     "metadata": {},
     "output_type": "execute_result"
    }
   ],
   "source": [
    "model"
   ]
  },
  {
   "cell_type": "code",
   "execution_count": 32,
   "id": "tMexjs9clFR8",
   "metadata": {
    "executionInfo": {
     "elapsed": 2,
     "status": "ok",
     "timestamp": 1729220960337,
     "user": {
      "displayName": "Sriram Appusamy",
      "userId": "14728332375139881139"
     },
     "user_tz": -330
    },
    "id": "tMexjs9clFR8"
   },
   "outputs": [],
   "source": [
    "import torch\n",
    "import numpy as np"
   ]
  },
  {
   "cell_type": "code",
   "execution_count": 33,
   "id": "7ZNTijqqk9UN",
   "metadata": {
    "colab": {
     "base_uri": "https://localhost:8080/",
     "height": 36
    },
    "executionInfo": {
     "elapsed": 5,
     "status": "ok",
     "timestamp": 1729220960782,
     "user": {
      "displayName": "Sriram Appusamy",
      "userId": "14728332375139881139"
     },
     "user_tz": -330
    },
    "id": "7ZNTijqqk9UN",
    "outputId": "35aa63a5-4286-45e8-9334-a79d4d76d358"
   },
   "outputs": [
    {
     "data": {
      "application/vnd.google.colaboratory.intrinsic+json": {
       "type": "string"
      },
      "text/plain": [
       "'cuda'"
      ]
     },
     "execution_count": 33,
     "metadata": {},
     "output_type": "execute_result"
    }
   ],
   "source": [
    "device = \"cpu\"\n",
    "if torch.cuda.is_available():\n",
    "    device = \"cuda\"\n",
    "device"
   ]
  },
  {
   "cell_type": "code",
   "execution_count": 34,
   "id": "k9Y-StnSlH_j",
   "metadata": {
    "executionInfo": {
     "elapsed": 1434,
     "status": "ok",
     "timestamp": 1729220963035,
     "user": {
      "displayName": "Sriram Appusamy",
      "userId": "14728332375139881139"
     },
     "user_tz": -330
    },
    "id": "k9Y-StnSlH_j"
   },
   "outputs": [],
   "source": [
    "model = model.to(device)"
   ]
  },
  {
   "cell_type": "code",
   "execution_count": 35,
   "id": "kHrHncunk0gB",
   "metadata": {
    "colab": {
     "base_uri": "https://localhost:8080/"
    },
    "executionInfo": {
     "elapsed": 4,
     "status": "ok",
     "timestamp": 1729220963036,
     "user": {
      "displayName": "Sriram Appusamy",
      "userId": "14728332375139881139"
     },
     "user_tz": -330
    },
    "id": "kHrHncunk0gB",
    "outputId": "d3d773c0-2619-4212-8e5a-f094c5fa1f4b"
   },
   "outputs": [
    {
     "name": "stdout",
     "output_type": "stream",
     "text": [
      "Fri Oct 18 03:09:22 2024       \n",
      "+---------------------------------------------------------------------------------------+\n",
      "| NVIDIA-SMI 535.104.05             Driver Version: 535.104.05   CUDA Version: 12.2     |\n",
      "|-----------------------------------------+----------------------+----------------------+\n",
      "| GPU  Name                 Persistence-M | Bus-Id        Disp.A | Volatile Uncorr. ECC |\n",
      "| Fan  Temp   Perf          Pwr:Usage/Cap |         Memory-Usage | GPU-Util  Compute M. |\n",
      "|                                         |                      |               MIG M. |\n",
      "|=========================================+======================+======================|\n",
      "|   0  Tesla T4                       Off | 00000000:00:04.0 Off |                    0 |\n",
      "| N/A   67C    P0              31W /  70W |    395MiB / 15360MiB |      2%      Default |\n",
      "|                                         |                      |                  N/A |\n",
      "+-----------------------------------------+----------------------+----------------------+\n",
      "                                                                                         \n",
      "+---------------------------------------------------------------------------------------+\n",
      "| Processes:                                                                            |\n",
      "|  GPU   GI   CI        PID   Type   Process name                            GPU Memory |\n",
      "|        ID   ID                                                             Usage      |\n",
      "|=======================================================================================|\n",
      "+---------------------------------------------------------------------------------------+\n"
     ]
    }
   ],
   "source": [
    "!nvidia-smi"
   ]
  },
  {
   "cell_type": "markdown",
   "id": "T5OKAFSdi-RO",
   "metadata": {
    "id": "T5OKAFSdi-RO"
   },
   "source": [
    "### Model training using HF framework"
   ]
  },
  {
   "cell_type": "code",
   "execution_count": 36,
   "id": "12a2b4f3-a529-4370-acfd-3c53c257dd5a",
   "metadata": {
    "executionInfo": {
     "elapsed": 2,
     "status": "ok",
     "timestamp": 1729220963442,
     "user": {
      "displayName": "Sriram Appusamy",
      "userId": "14728332375139881139"
     },
     "user_tz": -330
    },
    "id": "12a2b4f3-a529-4370-acfd-3c53c257dd5a"
   },
   "outputs": [],
   "source": [
    "model_result_dir = \"models_trained\""
   ]
  },
  {
   "cell_type": "code",
   "execution_count": 37,
   "id": "UPmKH_beoROi",
   "metadata": {
    "executionInfo": {
     "elapsed": 2,
     "status": "ok",
     "timestamp": 1729220963863,
     "user": {
      "displayName": "Sriram Appusamy",
      "userId": "14728332375139881139"
     },
     "user_tz": -330
    },
    "id": "UPmKH_beoROi"
   },
   "outputs": [],
   "source": [
    "def compute_metrics(eval_pred):\n",
    "    predictions, labels = eval_pred\n",
    "    predictions = np.argmax(predictions, axis=1)\n",
    "\n",
    "    num_labels = max(predictions.max(), labels.max())\n",
    "\n",
    "    fn = sum([sum(predictions[(labels==i)]!=i) for i in range(num_labels)])\n",
    "    fp = sum([sum(predictions[(labels!=i)]==i) for i in range(num_labels)])\n",
    "    tp = sum(predictions==labels)\n",
    "\n",
    "    accuracy = tp/labels.shape[0]\n",
    "    precision = 0 if tp==0 else tp/(tp+fp)\n",
    "    recall = 0 if tp==0 else tp/(tp+fn)\n",
    "    f1_score = 0 if tp==0 else (2*precision*recall)/(precision+recall)\n",
    "    return {\"accuracy\": accuracy, \"precision\": precision, \"recall\": recall, \"f1\": f1_score}"
   ]
  },
  {
   "cell_type": "code",
   "execution_count": 38,
   "id": "dd8ab057-1939-4dea-83d3-86d702aa051d",
   "metadata": {
    "executionInfo": {
     "elapsed": 2,
     "status": "ok",
     "timestamp": 1729220964755,
     "user": {
      "displayName": "Sriram Appusamy",
      "userId": "14728332375139881139"
     },
     "user_tz": -330
    },
    "id": "dd8ab057-1939-4dea-83d3-86d702aa051d"
   },
   "outputs": [],
   "source": [
    "training_args = TrainingArguments(\n",
    "                    output_dir= model_result_dir,\n",
    "                    eval_strategy=\"epoch\",\n",
    "                    save_strategy=\"epoch\",\n",
    "                    load_best_model_at_end=True,\n",
    "                    per_device_train_batch_size=16,\n",
    "                    per_device_eval_batch_size=16,\n",
    "                    num_train_epochs=2,\n",
    "                    push_to_hub=False\n",
    "\n",
    "                )"
   ]
  },
  {
   "cell_type": "code",
   "execution_count": 39,
   "id": "5cc80079-e1cd-4fa9-806c-db9e73bb6c8f",
   "metadata": {
    "executionInfo": {
     "elapsed": 408,
     "status": "ok",
     "timestamp": 1729220968091,
     "user": {
      "displayName": "Sriram Appusamy",
      "userId": "14728332375139881139"
     },
     "user_tz": -330
    },
    "id": "5cc80079-e1cd-4fa9-806c-db9e73bb6c8f"
   },
   "outputs": [],
   "source": [
    "trainer = Trainer(model = model,\n",
    "                 args=training_args,\n",
    "                 train_dataset=tokenized_ds[\"train\"],\n",
    "                 eval_dataset=tokenized_ds[\"test\"],\n",
    "                 tokenizer=tokenizer,\n",
    "                 data_collator=data_collator,\n",
    "                 compute_metrics=compute_metrics)"
   ]
  },
  {
   "cell_type": "code",
   "execution_count": 40,
   "id": "138f33dd-a550-4276-b8e5-5d059b5a67e5",
   "metadata": {
    "colab": {
     "base_uri": "https://localhost:8080/",
     "height": 174
    },
    "executionInfo": {
     "elapsed": 207089,
     "status": "ok",
     "timestamp": 1729221176660,
     "user": {
      "displayName": "Sriram Appusamy",
      "userId": "14728332375139881139"
     },
     "user_tz": -330
    },
    "id": "138f33dd-a550-4276-b8e5-5d059b5a67e5",
    "outputId": "b04005e5-b82c-42de-96e5-4bc525d5e4eb",
    "scrolled": true
   },
   "outputs": [
    {
     "data": {
      "text/html": [
       "\n",
       "    <div>\n",
       "      \n",
       "      <progress value='224' max='224' style='width:300px; height:20px; vertical-align: middle;'></progress>\n",
       "      [224/224 03:24, Epoch 2/2]\n",
       "    </div>\n",
       "    <table border=\"1\" class=\"dataframe\">\n",
       "  <thead>\n",
       " <tr style=\"text-align: left;\">\n",
       "      <th>Epoch</th>\n",
       "      <th>Training Loss</th>\n",
       "      <th>Validation Loss</th>\n",
       "      <th>Accuracy</th>\n",
       "      <th>Precision</th>\n",
       "      <th>Recall</th>\n",
       "      <th>F1</th>\n",
       "    </tr>\n",
       "  </thead>\n",
       "  <tbody>\n",
       "    <tr>\n",
       "      <td>1</td>\n",
       "      <td>No log</td>\n",
       "      <td>0.133601</td>\n",
       "      <td>0.964045</td>\n",
       "      <td>0.964045</td>\n",
       "      <td>0.966216</td>\n",
       "      <td>0.965129</td>\n",
       "    </tr>\n",
       "    <tr>\n",
       "      <td>2</td>\n",
       "      <td>No log</td>\n",
       "      <td>0.122231</td>\n",
       "      <td>0.977528</td>\n",
       "      <td>0.977528</td>\n",
       "      <td>0.979730</td>\n",
       "      <td>0.978628</td>\n",
       "    </tr>\n",
       "  </tbody>\n",
       "</table><p>"
      ],
      "text/plain": [
       "<IPython.core.display.HTML object>"
      ]
     },
     "metadata": {},
     "output_type": "display_data"
    },
    {
     "data": {
      "text/plain": [
       "TrainOutput(global_step=224, training_loss=0.18355260576520646, metrics={'train_runtime': 206.5408, 'train_samples_per_second': 17.236, 'train_steps_per_second': 1.085, 'total_flos': 471609169305600.0, 'train_loss': 0.18355260576520646, 'epoch': 2.0})"
      ]
     },
     "execution_count": 40,
     "metadata": {},
     "output_type": "execute_result"
    }
   ],
   "source": [
    "trainer.train()"
   ]
  },
  {
   "cell_type": "code",
   "execution_count": 41,
   "id": "QvpN-zx7lRE1",
   "metadata": {
    "colab": {
     "base_uri": "https://localhost:8080/"
    },
    "executionInfo": {
     "elapsed": 435,
     "status": "ok",
     "timestamp": 1729221739647,
     "user": {
      "displayName": "Sriram Appusamy",
      "userId": "14728332375139881139"
     },
     "user_tz": -330
    },
    "id": "QvpN-zx7lRE1",
    "outputId": "ed4aacae-6466-4ba4-96c5-a8bd7f3d0ce6"
   },
   "outputs": [
    {
     "name": "stdout",
     "output_type": "stream",
     "text": [
      "Fri Oct 18 03:22:18 2024       \n",
      "+---------------------------------------------------------------------------------------+\n",
      "| NVIDIA-SMI 535.104.05             Driver Version: 535.104.05   CUDA Version: 12.2     |\n",
      "|-----------------------------------------+----------------------+----------------------+\n",
      "| GPU  Name                 Persistence-M | Bus-Id        Disp.A | Volatile Uncorr. ECC |\n",
      "| Fan  Temp   Perf          Pwr:Usage/Cap |         Memory-Usage | GPU-Util  Compute M. |\n",
      "|                                         |                      |               MIG M. |\n",
      "|=========================================+======================+======================|\n",
      "|   0  Tesla T4                       Off | 00000000:00:04.0 Off |                    0 |\n",
      "| N/A   77C    P0              34W /  70W |   6333MiB / 15360MiB |      0%      Default |\n",
      "|                                         |                      |                  N/A |\n",
      "+-----------------------------------------+----------------------+----------------------+\n",
      "                                                                                         \n",
      "+---------------------------------------------------------------------------------------+\n",
      "| Processes:                                                                            |\n",
      "|  GPU   GI   CI        PID   Type   Process name                            GPU Memory |\n",
      "|        ID   ID                                                             Usage      |\n",
      "|=======================================================================================|\n",
      "+---------------------------------------------------------------------------------------+\n"
     ]
    }
   ],
   "source": [
    "!nvidia-smi"
   ]
  },
  {
   "cell_type": "markdown",
   "id": "rPUi8DKiljEt",
   "metadata": {
    "id": "rPUi8DKiljEt"
   },
   "source": [
    "### Metrics evaluation"
   ]
  },
  {
   "cell_type": "code",
   "execution_count": 48,
   "id": "8k1U55qUlzkk",
   "metadata": {
    "executionInfo": {
     "elapsed": 536,
     "status": "ok",
     "timestamp": 1729222881100,
     "user": {
      "displayName": "Sriram Appusamy",
      "userId": "14728332375139881139"
     },
     "user_tz": -330
    },
    "id": "8k1U55qUlzkk"
   },
   "outputs": [],
   "source": [
    "from torch.utils.data import DataLoader"
   ]
  },
  {
   "cell_type": "code",
   "execution_count": 49,
   "id": "WNLV7Voyl5Y6",
   "metadata": {
    "executionInfo": {
     "elapsed": 2,
     "status": "ok",
     "timestamp": 1729222881544,
     "user": {
      "displayName": "Sriram Appusamy",
      "userId": "14728332375139881139"
     },
     "user_tz": -330
    },
    "id": "WNLV7Voyl5Y6"
   },
   "outputs": [],
   "source": [
    "class MetricEvaluation():\n",
    "    def __init__(self):\n",
    "        self.m = {\"tp\": 0, \"fp\": 0, \"fn\": 0}\n",
    "        self.total = 0\n",
    "\n",
    "    def add_batch(self, predictions=[], references=[]):\n",
    "\n",
    "\n",
    "        num_labels = max(predictions.max().item(), references.max().item())\n",
    "\n",
    "        fn = sum([sum(predictions[(references==i)]!=i) for i in range(num_labels)]).item()\n",
    "        fp = sum([sum(predictions[(references!=i)]==i) for i in range(num_labels)]).item()\n",
    "        tp = sum(predictions==references).item()\n",
    "\n",
    "        self.total += predictions.size(0)\n",
    "\n",
    "        self.m[\"tp\"]+=tp\n",
    "        self.m[\"fp\"]+=fp\n",
    "        self.m[\"fn\"]+=fn\n",
    "\n",
    "    def compute(self):\n",
    "        tp,fp,fn = self.m[\"tp\"],self.m[\"fp\"],self.m[\"fn\"]\n",
    "        accuracy = tp/self.total\n",
    "        precision = 0 if tp==0 else tp/(tp+fp)\n",
    "        recall = 0 if tp==0 else tp/(tp+fn)\n",
    "        f1_score = 0 if tp==0 else (2*precision*recall)/(precision+recall)\n",
    "        return {\"accuracy\": accuracy, \"precision\": precision, \"recall\": recall, \"f1\": f1_score}\n"
   ]
  },
  {
   "cell_type": "code",
   "execution_count": 52,
   "id": "XuWJYRfQt4D6",
   "metadata": {
    "executionInfo": {
     "elapsed": 375,
     "status": "ok",
     "timestamp": 1729222924646,
     "user": {
      "displayName": "Sriram Appusamy",
      "userId": "14728332375139881139"
     },
     "user_tz": -330
    },
    "id": "XuWJYRfQt4D6"
   },
   "outputs": [],
   "source": [
    "tokenized_ds = tokenized_ds.remove_columns([\"text\", \"filename\"])"
   ]
  },
  {
   "cell_type": "code",
   "execution_count": 59,
   "id": "OB-0F9oZvHBz",
   "metadata": {
    "executionInfo": {
     "elapsed": 404,
     "status": "ok",
     "timestamp": 1729223238043,
     "user": {
      "displayName": "Sriram Appusamy",
      "userId": "14728332375139881139"
     },
     "user_tz": -330
    },
    "id": "OB-0F9oZvHBz"
   },
   "outputs": [],
   "source": [
    "train_dataloader = DataLoader(tokenized_ds[\"train\"],batch_size=16,collate_fn=data_collator)"
   ]
  },
  {
   "cell_type": "code",
   "execution_count": 60,
   "id": "DgdRlNitvHBz",
   "metadata": {
    "executionInfo": {
     "elapsed": 420,
     "status": "ok",
     "timestamp": 1729223241815,
     "user": {
      "displayName": "Sriram Appusamy",
      "userId": "14728332375139881139"
     },
     "user_tz": -330
    },
    "id": "DgdRlNitvHBz"
   },
   "outputs": [],
   "source": [
    "trn_metric = MetricEvaluation()"
   ]
  },
  {
   "cell_type": "code",
   "execution_count": 61,
   "id": "AFN5HbrvvHB0",
   "metadata": {
    "colab": {
     "base_uri": "https://localhost:8080/"
    },
    "executionInfo": {
     "elapsed": 30387,
     "status": "ok",
     "timestamp": 1729223309496,
     "user": {
      "displayName": "Sriram Appusamy",
      "userId": "14728332375139881139"
     },
     "user_tz": -330
    },
    "id": "AFN5HbrvvHB0",
    "outputId": "1053fd04-becd-467a-d3ba-ab2b2a9aa4e6"
   },
   "outputs": [
    {
     "data": {
      "text/plain": [
       "{'accuracy': 0.9955056179775281,\n",
       " 'precision': 0.9955056179775281,\n",
       " 'recall': 0.9955056179775281,\n",
       " 'f1': 0.9955056179775281}"
      ]
     },
     "execution_count": 61,
     "metadata": {},
     "output_type": "execute_result"
    }
   ],
   "source": [
    "model.eval()\n",
    "for batch in train_dataloader:\n",
    "    batch = {k: v.to(device) for k, v in batch.items()}\n",
    "    with torch.no_grad():\n",
    "        outputs = model(**batch)\n",
    "\n",
    "    logits = outputs.logits\n",
    "    predictions = torch.argmax(logits, dim=-1)\n",
    "    trn_metric.add_batch(predictions=predictions, references=batch[\"labels\"])\n",
    "\n",
    "trn_metric.compute()"
   ]
  },
  {
   "cell_type": "code",
   "execution_count": 62,
   "id": "WAyuFQZmlfye",
   "metadata": {
    "executionInfo": {
     "elapsed": 422,
     "status": "ok",
     "timestamp": 1729223341749,
     "user": {
      "displayName": "Sriram Appusamy",
      "userId": "14728332375139881139"
     },
     "user_tz": -330
    },
    "id": "WAyuFQZmlfye"
   },
   "outputs": [],
   "source": [
    "eval_dataloader = DataLoader(tokenized_ds[\"test\"],batch_size=16,collate_fn=data_collator)"
   ]
  },
  {
   "cell_type": "code",
   "execution_count": 63,
   "id": "mWoijh92t-jf",
   "metadata": {
    "executionInfo": {
     "elapsed": 2,
     "status": "ok",
     "timestamp": 1729223343336,
     "user": {
      "displayName": "Sriram Appusamy",
      "userId": "14728332375139881139"
     },
     "user_tz": -330
    },
    "id": "mWoijh92t-jf"
   },
   "outputs": [],
   "source": [
    "metric = MetricEvaluation()"
   ]
  },
  {
   "cell_type": "code",
   "execution_count": 64,
   "id": "gZbeUHtXkfTR",
   "metadata": {
    "colab": {
     "base_uri": "https://localhost:8080/"
    },
    "executionInfo": {
     "elapsed": 8056,
     "status": "ok",
     "timestamp": 1729223351830,
     "user": {
      "displayName": "Sriram Appusamy",
      "userId": "14728332375139881139"
     },
     "user_tz": -330
    },
    "id": "gZbeUHtXkfTR",
    "outputId": "55b29164-204a-4558-cdbf-7663a0a40bd3"
   },
   "outputs": [
    {
     "data": {
      "text/plain": [
       "{'accuracy': 0.9775280898876404,\n",
       " 'precision': 0.9775280898876404,\n",
       " 'recall': 0.9797297297297297,\n",
       " 'f1': 0.9786276715410572}"
      ]
     },
     "execution_count": 64,
     "metadata": {},
     "output_type": "execute_result"
    }
   ],
   "source": [
    "model.eval()\n",
    "preds = []\n",
    "references = []\n",
    "for batch in eval_dataloader:\n",
    "    batch = {k: v.to(device) for k, v in batch.items()}\n",
    "    with torch.no_grad():\n",
    "        outputs = model(**batch)\n",
    "\n",
    "    logits = outputs.logits\n",
    "    predictions = torch.argmax(logits, dim=-1)\n",
    "    metric.add_batch(predictions=predictions, references=batch[\"labels\"])\n",
    "\n",
    "metric.compute()"
   ]
  },
  {
   "cell_type": "code",
   "execution_count": null,
   "id": "RxVbyHjAvjpj",
   "metadata": {
    "id": "RxVbyHjAvjpj"
   },
   "outputs": [],
   "source": []
  }
 ],
 "metadata": {
  "accelerator": "GPU",
  "colab": {
   "gpuType": "T4",
   "provenance": []
  },
  "kernelspec": {
   "display_name": "Python 3 (ipykernel)",
   "language": "python",
   "name": "python3"
  },
  "language_info": {
   "codemirror_mode": {
    "name": "ipython",
    "version": 3
   },
   "file_extension": ".py",
   "mimetype": "text/x-python",
   "name": "python",
   "nbconvert_exporter": "python",
   "pygments_lexer": "ipython3",
   "version": "3.9.13"
  },
  "widgets": {
   "application/vnd.jupyter.widget-state+json": {
    "0eb3c31baba84c648f4bb1adf0ef5c01": {
     "model_module": "@jupyter-widgets/controls",
     "model_module_version": "1.5.0",
     "model_name": "HBoxModel",
     "state": {
      "_dom_classes": [],
      "_model_module": "@jupyter-widgets/controls",
      "_model_module_version": "1.5.0",
      "_model_name": "HBoxModel",
      "_view_count": null,
      "_view_module": "@jupyter-widgets/controls",
      "_view_module_version": "1.5.0",
      "_view_name": "HBoxView",
      "box_style": "",
      "children": [
       "IPY_MODEL_943eda11b4bd49619646858c4e11c888",
       "IPY_MODEL_2baec7929e53474ab2b2e2f1f316348d",
       "IPY_MODEL_8b9e0683b7ea4959aaa5ae42a37ed75b"
      ],
      "layout": "IPY_MODEL_b1789fe1267c4683832a3c3f163d4064"
     }
    },
    "17f5779fa43446cbbdf16f9ff6b9cb62": {
     "model_module": "@jupyter-widgets/controls",
     "model_module_version": "1.5.0",
     "model_name": "HTMLModel",
     "state": {
      "_dom_classes": [],
      "_model_module": "@jupyter-widgets/controls",
      "_model_module_version": "1.5.0",
      "_model_name": "HTMLModel",
      "_view_count": null,
      "_view_module": "@jupyter-widgets/controls",
      "_view_module_version": "1.5.0",
      "_view_name": "HTMLView",
      "description": "",
      "description_tooltip": null,
      "layout": "IPY_MODEL_5595f2c8ef7240168a77029dc6b9545d",
      "placeholder": "​",
      "style": "IPY_MODEL_38943e33356a44e5abc90005650cc83d",
      "value": "Map: 100%"
     }
    },
    "1f128e591d8f46e09cf586105b10b63c": {
     "model_module": "@jupyter-widgets/controls",
     "model_module_version": "1.5.0",
     "model_name": "DescriptionStyleModel",
     "state": {
      "_model_module": "@jupyter-widgets/controls",
      "_model_module_version": "1.5.0",
      "_model_name": "DescriptionStyleModel",
      "_view_count": null,
      "_view_module": "@jupyter-widgets/base",
      "_view_module_version": "1.2.0",
      "_view_name": "StyleView",
      "description_width": ""
     }
    },
    "2255e9dc8c2d4182938967e99d7564b2": {
     "model_module": "@jupyter-widgets/base",
     "model_module_version": "1.2.0",
     "model_name": "LayoutModel",
     "state": {
      "_model_module": "@jupyter-widgets/base",
      "_model_module_version": "1.2.0",
      "_model_name": "LayoutModel",
      "_view_count": null,
      "_view_module": "@jupyter-widgets/base",
      "_view_module_version": "1.2.0",
      "_view_name": "LayoutView",
      "align_content": null,
      "align_items": null,
      "align_self": null,
      "border": null,
      "bottom": null,
      "display": null,
      "flex": null,
      "flex_flow": null,
      "grid_area": null,
      "grid_auto_columns": null,
      "grid_auto_flow": null,
      "grid_auto_rows": null,
      "grid_column": null,
      "grid_gap": null,
      "grid_row": null,
      "grid_template_areas": null,
      "grid_template_columns": null,
      "grid_template_rows": null,
      "height": null,
      "justify_content": null,
      "justify_items": null,
      "left": null,
      "margin": null,
      "max_height": null,
      "max_width": null,
      "min_height": null,
      "min_width": null,
      "object_fit": null,
      "object_position": null,
      "order": null,
      "overflow": null,
      "overflow_x": null,
      "overflow_y": null,
      "padding": null,
      "right": null,
      "top": null,
      "visibility": null,
      "width": null
     }
    },
    "2baec7929e53474ab2b2e2f1f316348d": {
     "model_module": "@jupyter-widgets/controls",
     "model_module_version": "1.5.0",
     "model_name": "FloatProgressModel",
     "state": {
      "_dom_classes": [],
      "_model_module": "@jupyter-widgets/controls",
      "_model_module_version": "1.5.0",
      "_model_name": "FloatProgressModel",
      "_view_count": null,
      "_view_module": "@jupyter-widgets/controls",
      "_view_module_version": "1.5.0",
      "_view_name": "ProgressView",
      "bar_style": "success",
      "description": "",
      "description_tooltip": null,
      "layout": "IPY_MODEL_9de2e8044f974ef39ef4c3b547ea0b27",
      "max": 1780,
      "min": 0,
      "orientation": "horizontal",
      "style": "IPY_MODEL_acf715717dad4bc19292faf05eea3400",
      "value": 1780
     }
    },
    "2d8579a11ab64fea820509d02f981711": {
     "model_module": "@jupyter-widgets/controls",
     "model_module_version": "1.5.0",
     "model_name": "FloatProgressModel",
     "state": {
      "_dom_classes": [],
      "_model_module": "@jupyter-widgets/controls",
      "_model_module_version": "1.5.0",
      "_model_name": "FloatProgressModel",
      "_view_count": null,
      "_view_module": "@jupyter-widgets/controls",
      "_view_module_version": "1.5.0",
      "_view_name": "ProgressView",
      "bar_style": "success",
      "description": "",
      "description_tooltip": null,
      "layout": "IPY_MODEL_6db2a9ce91f3426fa47d6bfe393b424f",
      "max": 445,
      "min": 0,
      "orientation": "horizontal",
      "style": "IPY_MODEL_d46f97effaa447b4af11b107eac9ae06",
      "value": 445
     }
    },
    "313e0a2e8abd4de5966791ba3640304d": {
     "model_module": "@jupyter-widgets/controls",
     "model_module_version": "1.5.0",
     "model_name": "HBoxModel",
     "state": {
      "_dom_classes": [],
      "_model_module": "@jupyter-widgets/controls",
      "_model_module_version": "1.5.0",
      "_model_name": "HBoxModel",
      "_view_count": null,
      "_view_module": "@jupyter-widgets/controls",
      "_view_module_version": "1.5.0",
      "_view_name": "HBoxView",
      "box_style": "",
      "children": [
       "IPY_MODEL_17f5779fa43446cbbdf16f9ff6b9cb62",
       "IPY_MODEL_2d8579a11ab64fea820509d02f981711",
       "IPY_MODEL_a9bb2d8e83374a819a006ce29621d192"
      ],
      "layout": "IPY_MODEL_2255e9dc8c2d4182938967e99d7564b2"
     }
    },
    "38943e33356a44e5abc90005650cc83d": {
     "model_module": "@jupyter-widgets/controls",
     "model_module_version": "1.5.0",
     "model_name": "DescriptionStyleModel",
     "state": {
      "_model_module": "@jupyter-widgets/controls",
      "_model_module_version": "1.5.0",
      "_model_name": "DescriptionStyleModel",
      "_view_count": null,
      "_view_module": "@jupyter-widgets/base",
      "_view_module_version": "1.2.0",
      "_view_name": "StyleView",
      "description_width": ""
     }
    },
    "3d771e2aba244dd7a804dcbb82e003a7": {
     "model_module": "@jupyter-widgets/base",
     "model_module_version": "1.2.0",
     "model_name": "LayoutModel",
     "state": {
      "_model_module": "@jupyter-widgets/base",
      "_model_module_version": "1.2.0",
      "_model_name": "LayoutModel",
      "_view_count": null,
      "_view_module": "@jupyter-widgets/base",
      "_view_module_version": "1.2.0",
      "_view_name": "LayoutView",
      "align_content": null,
      "align_items": null,
      "align_self": null,
      "border": null,
      "bottom": null,
      "display": null,
      "flex": null,
      "flex_flow": null,
      "grid_area": null,
      "grid_auto_columns": null,
      "grid_auto_flow": null,
      "grid_auto_rows": null,
      "grid_column": null,
      "grid_gap": null,
      "grid_row": null,
      "grid_template_areas": null,
      "grid_template_columns": null,
      "grid_template_rows": null,
      "height": null,
      "justify_content": null,
      "justify_items": null,
      "left": null,
      "margin": null,
      "max_height": null,
      "max_width": null,
      "min_height": null,
      "min_width": null,
      "object_fit": null,
      "object_position": null,
      "order": null,
      "overflow": null,
      "overflow_x": null,
      "overflow_y": null,
      "padding": null,
      "right": null,
      "top": null,
      "visibility": null,
      "width": null
     }
    },
    "5595f2c8ef7240168a77029dc6b9545d": {
     "model_module": "@jupyter-widgets/base",
     "model_module_version": "1.2.0",
     "model_name": "LayoutModel",
     "state": {
      "_model_module": "@jupyter-widgets/base",
      "_model_module_version": "1.2.0",
      "_model_name": "LayoutModel",
      "_view_count": null,
      "_view_module": "@jupyter-widgets/base",
      "_view_module_version": "1.2.0",
      "_view_name": "LayoutView",
      "align_content": null,
      "align_items": null,
      "align_self": null,
      "border": null,
      "bottom": null,
      "display": null,
      "flex": null,
      "flex_flow": null,
      "grid_area": null,
      "grid_auto_columns": null,
      "grid_auto_flow": null,
      "grid_auto_rows": null,
      "grid_column": null,
      "grid_gap": null,
      "grid_row": null,
      "grid_template_areas": null,
      "grid_template_columns": null,
      "grid_template_rows": null,
      "height": null,
      "justify_content": null,
      "justify_items": null,
      "left": null,
      "margin": null,
      "max_height": null,
      "max_width": null,
      "min_height": null,
      "min_width": null,
      "object_fit": null,
      "object_position": null,
      "order": null,
      "overflow": null,
      "overflow_x": null,
      "overflow_y": null,
      "padding": null,
      "right": null,
      "top": null,
      "visibility": null,
      "width": null
     }
    },
    "6db2a9ce91f3426fa47d6bfe393b424f": {
     "model_module": "@jupyter-widgets/base",
     "model_module_version": "1.2.0",
     "model_name": "LayoutModel",
     "state": {
      "_model_module": "@jupyter-widgets/base",
      "_model_module_version": "1.2.0",
      "_model_name": "LayoutModel",
      "_view_count": null,
      "_view_module": "@jupyter-widgets/base",
      "_view_module_version": "1.2.0",
      "_view_name": "LayoutView",
      "align_content": null,
      "align_items": null,
      "align_self": null,
      "border": null,
      "bottom": null,
      "display": null,
      "flex": null,
      "flex_flow": null,
      "grid_area": null,
      "grid_auto_columns": null,
      "grid_auto_flow": null,
      "grid_auto_rows": null,
      "grid_column": null,
      "grid_gap": null,
      "grid_row": null,
      "grid_template_areas": null,
      "grid_template_columns": null,
      "grid_template_rows": null,
      "height": null,
      "justify_content": null,
      "justify_items": null,
      "left": null,
      "margin": null,
      "max_height": null,
      "max_width": null,
      "min_height": null,
      "min_width": null,
      "object_fit": null,
      "object_position": null,
      "order": null,
      "overflow": null,
      "overflow_x": null,
      "overflow_y": null,
      "padding": null,
      "right": null,
      "top": null,
      "visibility": null,
      "width": null
     }
    },
    "8b9e0683b7ea4959aaa5ae42a37ed75b": {
     "model_module": "@jupyter-widgets/controls",
     "model_module_version": "1.5.0",
     "model_name": "HTMLModel",
     "state": {
      "_dom_classes": [],
      "_model_module": "@jupyter-widgets/controls",
      "_model_module_version": "1.5.0",
      "_model_name": "HTMLModel",
      "_view_count": null,
      "_view_module": "@jupyter-widgets/controls",
      "_view_module_version": "1.5.0",
      "_view_name": "HTMLView",
      "description": "",
      "description_tooltip": null,
      "layout": "IPY_MODEL_e7e931e9240142be862ed4ddc481aa21",
      "placeholder": "​",
      "style": "IPY_MODEL_cf88d200ae5a4d27993792d6f25d6616",
      "value": " 1780/1780 [00:03&lt;00:00, 530.33 examples/s]"
     }
    },
    "943eda11b4bd49619646858c4e11c888": {
     "model_module": "@jupyter-widgets/controls",
     "model_module_version": "1.5.0",
     "model_name": "HTMLModel",
     "state": {
      "_dom_classes": [],
      "_model_module": "@jupyter-widgets/controls",
      "_model_module_version": "1.5.0",
      "_model_name": "HTMLModel",
      "_view_count": null,
      "_view_module": "@jupyter-widgets/controls",
      "_view_module_version": "1.5.0",
      "_view_name": "HTMLView",
      "description": "",
      "description_tooltip": null,
      "layout": "IPY_MODEL_3d771e2aba244dd7a804dcbb82e003a7",
      "placeholder": "​",
      "style": "IPY_MODEL_1f128e591d8f46e09cf586105b10b63c",
      "value": "Map: 100%"
     }
    },
    "9de2e8044f974ef39ef4c3b547ea0b27": {
     "model_module": "@jupyter-widgets/base",
     "model_module_version": "1.2.0",
     "model_name": "LayoutModel",
     "state": {
      "_model_module": "@jupyter-widgets/base",
      "_model_module_version": "1.2.0",
      "_model_name": "LayoutModel",
      "_view_count": null,
      "_view_module": "@jupyter-widgets/base",
      "_view_module_version": "1.2.0",
      "_view_name": "LayoutView",
      "align_content": null,
      "align_items": null,
      "align_self": null,
      "border": null,
      "bottom": null,
      "display": null,
      "flex": null,
      "flex_flow": null,
      "grid_area": null,
      "grid_auto_columns": null,
      "grid_auto_flow": null,
      "grid_auto_rows": null,
      "grid_column": null,
      "grid_gap": null,
      "grid_row": null,
      "grid_template_areas": null,
      "grid_template_columns": null,
      "grid_template_rows": null,
      "height": null,
      "justify_content": null,
      "justify_items": null,
      "left": null,
      "margin": null,
      "max_height": null,
      "max_width": null,
      "min_height": null,
      "min_width": null,
      "object_fit": null,
      "object_position": null,
      "order": null,
      "overflow": null,
      "overflow_x": null,
      "overflow_y": null,
      "padding": null,
      "right": null,
      "top": null,
      "visibility": null,
      "width": null
     }
    },
    "a9bb2d8e83374a819a006ce29621d192": {
     "model_module": "@jupyter-widgets/controls",
     "model_module_version": "1.5.0",
     "model_name": "HTMLModel",
     "state": {
      "_dom_classes": [],
      "_model_module": "@jupyter-widgets/controls",
      "_model_module_version": "1.5.0",
      "_model_name": "HTMLModel",
      "_view_count": null,
      "_view_module": "@jupyter-widgets/controls",
      "_view_module_version": "1.5.0",
      "_view_name": "HTMLView",
      "description": "",
      "description_tooltip": null,
      "layout": "IPY_MODEL_f9110857b77e4fa185c210a3f60c66da",
      "placeholder": "​",
      "style": "IPY_MODEL_c6e9a71be5024c599656c6c36bd5106e",
      "value": " 445/445 [00:00&lt;00:00, 722.56 examples/s]"
     }
    },
    "acf715717dad4bc19292faf05eea3400": {
     "model_module": "@jupyter-widgets/controls",
     "model_module_version": "1.5.0",
     "model_name": "ProgressStyleModel",
     "state": {
      "_model_module": "@jupyter-widgets/controls",
      "_model_module_version": "1.5.0",
      "_model_name": "ProgressStyleModel",
      "_view_count": null,
      "_view_module": "@jupyter-widgets/base",
      "_view_module_version": "1.2.0",
      "_view_name": "StyleView",
      "bar_color": null,
      "description_width": ""
     }
    },
    "b1789fe1267c4683832a3c3f163d4064": {
     "model_module": "@jupyter-widgets/base",
     "model_module_version": "1.2.0",
     "model_name": "LayoutModel",
     "state": {
      "_model_module": "@jupyter-widgets/base",
      "_model_module_version": "1.2.0",
      "_model_name": "LayoutModel",
      "_view_count": null,
      "_view_module": "@jupyter-widgets/base",
      "_view_module_version": "1.2.0",
      "_view_name": "LayoutView",
      "align_content": null,
      "align_items": null,
      "align_self": null,
      "border": null,
      "bottom": null,
      "display": null,
      "flex": null,
      "flex_flow": null,
      "grid_area": null,
      "grid_auto_columns": null,
      "grid_auto_flow": null,
      "grid_auto_rows": null,
      "grid_column": null,
      "grid_gap": null,
      "grid_row": null,
      "grid_template_areas": null,
      "grid_template_columns": null,
      "grid_template_rows": null,
      "height": null,
      "justify_content": null,
      "justify_items": null,
      "left": null,
      "margin": null,
      "max_height": null,
      "max_width": null,
      "min_height": null,
      "min_width": null,
      "object_fit": null,
      "object_position": null,
      "order": null,
      "overflow": null,
      "overflow_x": null,
      "overflow_y": null,
      "padding": null,
      "right": null,
      "top": null,
      "visibility": null,
      "width": null
     }
    },
    "c6e9a71be5024c599656c6c36bd5106e": {
     "model_module": "@jupyter-widgets/controls",
     "model_module_version": "1.5.0",
     "model_name": "DescriptionStyleModel",
     "state": {
      "_model_module": "@jupyter-widgets/controls",
      "_model_module_version": "1.5.0",
      "_model_name": "DescriptionStyleModel",
      "_view_count": null,
      "_view_module": "@jupyter-widgets/base",
      "_view_module_version": "1.2.0",
      "_view_name": "StyleView",
      "description_width": ""
     }
    },
    "cf88d200ae5a4d27993792d6f25d6616": {
     "model_module": "@jupyter-widgets/controls",
     "model_module_version": "1.5.0",
     "model_name": "DescriptionStyleModel",
     "state": {
      "_model_module": "@jupyter-widgets/controls",
      "_model_module_version": "1.5.0",
      "_model_name": "DescriptionStyleModel",
      "_view_count": null,
      "_view_module": "@jupyter-widgets/base",
      "_view_module_version": "1.2.0",
      "_view_name": "StyleView",
      "description_width": ""
     }
    },
    "d46f97effaa447b4af11b107eac9ae06": {
     "model_module": "@jupyter-widgets/controls",
     "model_module_version": "1.5.0",
     "model_name": "ProgressStyleModel",
     "state": {
      "_model_module": "@jupyter-widgets/controls",
      "_model_module_version": "1.5.0",
      "_model_name": "ProgressStyleModel",
      "_view_count": null,
      "_view_module": "@jupyter-widgets/base",
      "_view_module_version": "1.2.0",
      "_view_name": "StyleView",
      "bar_color": null,
      "description_width": ""
     }
    },
    "e7e931e9240142be862ed4ddc481aa21": {
     "model_module": "@jupyter-widgets/base",
     "model_module_version": "1.2.0",
     "model_name": "LayoutModel",
     "state": {
      "_model_module": "@jupyter-widgets/base",
      "_model_module_version": "1.2.0",
      "_model_name": "LayoutModel",
      "_view_count": null,
      "_view_module": "@jupyter-widgets/base",
      "_view_module_version": "1.2.0",
      "_view_name": "LayoutView",
      "align_content": null,
      "align_items": null,
      "align_self": null,
      "border": null,
      "bottom": null,
      "display": null,
      "flex": null,
      "flex_flow": null,
      "grid_area": null,
      "grid_auto_columns": null,
      "grid_auto_flow": null,
      "grid_auto_rows": null,
      "grid_column": null,
      "grid_gap": null,
      "grid_row": null,
      "grid_template_areas": null,
      "grid_template_columns": null,
      "grid_template_rows": null,
      "height": null,
      "justify_content": null,
      "justify_items": null,
      "left": null,
      "margin": null,
      "max_height": null,
      "max_width": null,
      "min_height": null,
      "min_width": null,
      "object_fit": null,
      "object_position": null,
      "order": null,
      "overflow": null,
      "overflow_x": null,
      "overflow_y": null,
      "padding": null,
      "right": null,
      "top": null,
      "visibility": null,
      "width": null
     }
    },
    "f9110857b77e4fa185c210a3f60c66da": {
     "model_module": "@jupyter-widgets/base",
     "model_module_version": "1.2.0",
     "model_name": "LayoutModel",
     "state": {
      "_model_module": "@jupyter-widgets/base",
      "_model_module_version": "1.2.0",
      "_model_name": "LayoutModel",
      "_view_count": null,
      "_view_module": "@jupyter-widgets/base",
      "_view_module_version": "1.2.0",
      "_view_name": "LayoutView",
      "align_content": null,
      "align_items": null,
      "align_self": null,
      "border": null,
      "bottom": null,
      "display": null,
      "flex": null,
      "flex_flow": null,
      "grid_area": null,
      "grid_auto_columns": null,
      "grid_auto_flow": null,
      "grid_auto_rows": null,
      "grid_column": null,
      "grid_gap": null,
      "grid_row": null,
      "grid_template_areas": null,
      "grid_template_columns": null,
      "grid_template_rows": null,
      "height": null,
      "justify_content": null,
      "justify_items": null,
      "left": null,
      "margin": null,
      "max_height": null,
      "max_width": null,
      "min_height": null,
      "min_width": null,
      "object_fit": null,
      "object_position": null,
      "order": null,
      "overflow": null,
      "overflow_x": null,
      "overflow_y": null,
      "padding": null,
      "right": null,
      "top": null,
      "visibility": null,
      "width": null
     }
    }
   }
  }
 },
 "nbformat": 4,
 "nbformat_minor": 5
}
